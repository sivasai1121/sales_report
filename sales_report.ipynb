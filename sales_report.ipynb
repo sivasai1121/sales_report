{
  "nbformat": 4,
  "nbformat_minor": 0,
  "metadata": {
    "colab": {
      "provenance": []
    },
    "kernelspec": {
      "name": "python3",
      "display_name": "Python 3"
    },
    "language_info": {
      "name": "python"
    }
  },
  "cells": [
    {
      "cell_type": "code",
      "source": [
        "import pandas as pd\n",
        "\n",
        "data = {\n",
        "    \"Date\": [\"2025-06-01\", \"2025-06-01\", \"2025-06-02\", \"2025-06-02\", \"2025-06-03\", \"2025-06-03\"],\n",
        "    \"Product\": [\"Keyboard\", \"Mouse\", \"Monitor\", \"Keyboard\", \"Mouse\", \"Laptop\"],\n",
        "    \"Units Sold\": [10, 25, 5, 7, 15, 2],\n",
        "    \"Unit Price\": [500, 300, 7000, 500, 300, 55000]\n",
        "}\n",
        "\n",
        "df = pd.DataFrame(data)\n",
        "df.to_csv(\"sales_data.csv\", index=False)\n",
        "print(\"✅ sales_data.csv created!\")\n",
        "\n",
        "\n"
      ],
      "metadata": {
        "colab": {
          "base_uri": "https://localhost:8080/"
        },
        "id": "mYLhnVlp1bE2",
        "outputId": "958b3142-1de5-428f-8426-b0bd823583c9"
      },
      "execution_count": null,
      "outputs": [
        {
          "output_type": "stream",
          "name": "stdout",
          "text": [
            "✅ sales_data.csv created!\n"
          ]
        }
      ]
    },
    {
      "cell_type": "code",
      "source": [
        "import pandas as pd\n",
        "from fpdf import FPDF\n",
        "\n",
        "# Read CSV data\n",
        "df = pd.read_csv(\"sales_data.csv\")\n",
        "\n",
        "# Compute total sales per product\n",
        "df[\"Total Sale\"] = df[\"Units Sold\"] * df[\"Unit Price\"]\n",
        "total_sales = df[\"Total Sale\"].sum()\n",
        "top_product = df.groupby(\"Product\")[\"Total Sale\"].sum().idxmax()\n",
        "average_sale = df[\"Total Sale\"].mean()\n",
        "\n",
        "# Initialize PDF\n",
        "pdf = FPDF()\n",
        "pdf.add_page()\n",
        "pdf.set_font(\"Arial\", 'B', 16)\n",
        "pdf.cell(200, 10, \"Sales Report\", ln=True, align='C')\n",
        "\n",
        "pdf.set_font(\"Arial\", '', 12)\n",
        "pdf.ln(10)\n",
        "pdf.cell(200, 10, f\"Total Sales: Rs. {total_sales:,.2f}\", ln=True)\n",
        "pdf.cell(200, 10, f\"Top Selling Product: {top_product}\", ln=True)\n",
        "pdf.cell(200, 10, f\"Average Sale Value: Rs. {average_sale:,.2f}\", ln=True)\n",
        "\n",
        "pdf.ln(10)\n",
        "pdf.set_font(\"Arial\", 'B', 12)\n",
        "pdf.cell(200, 10, \"Detailed Sales Data\", ln=True)\n",
        "pdf.set_font(\"Arial\", '', 10)\n",
        "\n",
        "# Table Header\n",
        "pdf.set_fill_color(200, 220, 255)\n",
        "pdf.cell(30, 8, \"Date\", border=1, fill=True)\n",
        "pdf.cell(40, 8, \"Product\", border=1, fill=True)\n",
        "pdf.cell(30, 8, \"Units\", border=1, fill=True)\n",
        "pdf.cell(30, 8, \"Price\", border=1, fill=True)\n",
        "pdf.cell(40, 8, \"Total Sale\", border=1, ln=True, fill=True)\n",
        "\n",
        "# Table Rows\n",
        "for index, row in df.iterrows():\n",
        "    pdf.cell(30, 8, row[\"Date\"], border=1)\n",
        "    pdf.cell(40, 8, row[\"Product\"], border=1)\n",
        "    pdf.cell(30, 8, str(row[\"Units Sold\"]), border=1)\n",
        "    pdf.cell(30, 8, f\"Rs. {row['Unit Price']}\", border=1)\n",
        "    pdf.cell(40, 8, f\"Rs. {row['Total Sale']}\", border=1, ln=True)\n",
        "\n",
        "# Save PDF\n",
        "pdf.output(\"sample_report.pdf\", 'F')\n",
        "print(\"✅ PDF report generated as sample_report.pdf\")\n"
      ],
      "metadata": {
        "colab": {
          "base_uri": "https://localhost:8080/"
        },
        "id": "jpn_ED3ncrwU",
        "outputId": "0ffc3589-63c0-45f5-e140-cce5f5051cba"
      },
      "execution_count": null,
      "outputs": [
        {
          "output_type": "stream",
          "name": "stdout",
          "text": [
            "✅ PDF report generated as sample_report.pdf\n"
          ]
        }
      ]
    },
    {
      "cell_type": "code",
      "source": [
        "pip install fpdf\n"
      ],
      "metadata": {
        "colab": {
          "base_uri": "https://localhost:8080/"
        },
        "id": "w_rCy5hacZyj",
        "outputId": "61d9a4b3-b7b3-421c-ec8b-d2a7e54d52e3"
      },
      "execution_count": null,
      "outputs": [
        {
          "output_type": "stream",
          "name": "stdout",
          "text": [
            "Collecting fpdf\n",
            "  Downloading fpdf-1.7.2.tar.gz (39 kB)\n",
            "  Preparing metadata (setup.py) ... \u001b[?25l\u001b[?25hdone\n",
            "Building wheels for collected packages: fpdf\n",
            "  Building wheel for fpdf (setup.py) ... \u001b[?25l\u001b[?25hdone\n",
            "  Created wheel for fpdf: filename=fpdf-1.7.2-py2.py3-none-any.whl size=40704 sha256=a7879a0c9f5c0bdbbabdf0e34646d7cfe8e8531047273465c62f46d3af4135af\n",
            "  Stored in directory: /root/.cache/pip/wheels/65/4f/66/bbda9866da446a72e206d6484cd97381cbc7859a7068541c36\n",
            "Successfully built fpdf\n",
            "Installing collected packages: fpdf\n",
            "Successfully installed fpdf-1.7.2\n"
          ]
        }
      ]
    }
  ]
}